{
 "cells": [
  {
   "cell_type": "code",
   "execution_count": 6,
   "metadata": {},
   "outputs": [],
   "source": [
    "import numpy as np\n",
    "import pandas as pd\n",
    "import matplotlib.pyplot as plt\n",
    "import seaborn as sns\n",
    "from IPython.core.interactiveshell import InteractiveShell\n",
    "InteractiveShell.ast_node_interactivity = \"all\""
   ]
  },
  {
   "cell_type": "markdown",
   "metadata": {},
   "source": [
    "#### Binomial Distribution"
   ]
  },
  {
   "cell_type": "markdown",
   "metadata": {},
   "source": [
    "E-comm company that sells women apparel. It is observed 10% of the customers return the items purchased. On a specific day 20 customres items from the company. \n",
    "Calculate:\n",
    "    Probability that exactly 5 customers will return the items.\n",
    "    Max of 5 customers will return the items.\n",
    "    More than 5 customers will return the items\n",
    "    Avg number of customers who are likely to retutn the items, Variance and Std Dev of the returns."
   ]
  },
  {
   "cell_type": "markdown",
   "metadata": {},
   "source": [
    "- 1.Expected number of successful trials.(5)\n",
    "- 2.Total Number of trials.(20)\n",
    "- 3.The probability of success.(0.1)"
   ]
  },
  {
   "cell_type": "code",
   "execution_count": 3,
   "metadata": {},
   "outputs": [
    {
     "data": {
      "text/plain": [
       "0.03192136111995428"
      ]
     },
     "execution_count": 3,
     "metadata": {},
     "output_type": "execute_result"
    }
   ],
   "source": [
    "from scipy import stats\n",
    "#Exactly 5 customers will return the items.\n",
    "stats.binom.pmf(5,20,0.1)"
   ]
  },
  {
   "cell_type": "code",
   "execution_count": 4,
   "metadata": {},
   "outputs": [],
   "source": [
    "#range(0,21) returns all values from 0 to 20\n",
    "pmf_df = pd.DataFrame({'success': range(0,21),'pmf':list (stats.binom.pmf(range(0,21),20,0.1))})"
   ]
  },
  {
   "cell_type": "code",
   "execution_count": 5,
   "metadata": {},
   "outputs": [
    {
     "data": {
      "text/html": [
       "<div>\n",
       "<style scoped>\n",
       "    .dataframe tbody tr th:only-of-type {\n",
       "        vertical-align: middle;\n",
       "    }\n",
       "\n",
       "    .dataframe tbody tr th {\n",
       "        vertical-align: top;\n",
       "    }\n",
       "\n",
       "    .dataframe thead th {\n",
       "        text-align: right;\n",
       "    }\n",
       "</style>\n",
       "<table border=\"1\" class=\"dataframe\">\n",
       "  <thead>\n",
       "    <tr style=\"text-align: right;\">\n",
       "      <th></th>\n",
       "      <th>success</th>\n",
       "      <th>pmf</th>\n",
       "    </tr>\n",
       "  </thead>\n",
       "  <tbody>\n",
       "    <tr>\n",
       "      <th>0</th>\n",
       "      <td>0</td>\n",
       "      <td>1.215767e-01</td>\n",
       "    </tr>\n",
       "    <tr>\n",
       "      <th>1</th>\n",
       "      <td>1</td>\n",
       "      <td>2.701703e-01</td>\n",
       "    </tr>\n",
       "    <tr>\n",
       "      <th>2</th>\n",
       "      <td>2</td>\n",
       "      <td>2.851798e-01</td>\n",
       "    </tr>\n",
       "    <tr>\n",
       "      <th>3</th>\n",
       "      <td>3</td>\n",
       "      <td>1.901199e-01</td>\n",
       "    </tr>\n",
       "    <tr>\n",
       "      <th>4</th>\n",
       "      <td>4</td>\n",
       "      <td>8.977883e-02</td>\n",
       "    </tr>\n",
       "    <tr>\n",
       "      <th>5</th>\n",
       "      <td>5</td>\n",
       "      <td>3.192136e-02</td>\n",
       "    </tr>\n",
       "    <tr>\n",
       "      <th>6</th>\n",
       "      <td>6</td>\n",
       "      <td>8.867045e-03</td>\n",
       "    </tr>\n",
       "    <tr>\n",
       "      <th>7</th>\n",
       "      <td>7</td>\n",
       "      <td>1.970454e-03</td>\n",
       "    </tr>\n",
       "    <tr>\n",
       "      <th>8</th>\n",
       "      <td>8</td>\n",
       "      <td>3.557765e-04</td>\n",
       "    </tr>\n",
       "    <tr>\n",
       "      <th>9</th>\n",
       "      <td>9</td>\n",
       "      <td>5.270763e-05</td>\n",
       "    </tr>\n",
       "    <tr>\n",
       "      <th>10</th>\n",
       "      <td>10</td>\n",
       "      <td>6.442043e-06</td>\n",
       "    </tr>\n",
       "    <tr>\n",
       "      <th>11</th>\n",
       "      <td>11</td>\n",
       "      <td>6.507115e-07</td>\n",
       "    </tr>\n",
       "    <tr>\n",
       "      <th>12</th>\n",
       "      <td>12</td>\n",
       "      <td>5.422595e-08</td>\n",
       "    </tr>\n",
       "    <tr>\n",
       "      <th>13</th>\n",
       "      <td>13</td>\n",
       "      <td>3.707758e-09</td>\n",
       "    </tr>\n",
       "    <tr>\n",
       "      <th>14</th>\n",
       "      <td>14</td>\n",
       "      <td>2.059865e-10</td>\n",
       "    </tr>\n",
       "    <tr>\n",
       "      <th>15</th>\n",
       "      <td>15</td>\n",
       "      <td>9.154957e-12</td>\n",
       "    </tr>\n",
       "    <tr>\n",
       "      <th>16</th>\n",
       "      <td>16</td>\n",
       "      <td>3.178805e-13</td>\n",
       "    </tr>\n",
       "    <tr>\n",
       "      <th>17</th>\n",
       "      <td>17</td>\n",
       "      <td>8.310600e-15</td>\n",
       "    </tr>\n",
       "    <tr>\n",
       "      <th>18</th>\n",
       "      <td>18</td>\n",
       "      <td>1.539000e-16</td>\n",
       "    </tr>\n",
       "    <tr>\n",
       "      <th>19</th>\n",
       "      <td>19</td>\n",
       "      <td>1.800000e-18</td>\n",
       "    </tr>\n",
       "    <tr>\n",
       "      <th>20</th>\n",
       "      <td>20</td>\n",
       "      <td>1.000000e-20</td>\n",
       "    </tr>\n",
       "  </tbody>\n",
       "</table>\n",
       "</div>"
      ],
      "text/plain": [
       "    success           pmf\n",
       "0         0  1.215767e-01\n",
       "1         1  2.701703e-01\n",
       "2         2  2.851798e-01\n",
       "3         3  1.901199e-01\n",
       "4         4  8.977883e-02\n",
       "5         5  3.192136e-02\n",
       "6         6  8.867045e-03\n",
       "7         7  1.970454e-03\n",
       "8         8  3.557765e-04\n",
       "9         9  5.270763e-05\n",
       "10       10  6.442043e-06\n",
       "11       11  6.507115e-07\n",
       "12       12  5.422595e-08\n",
       "13       13  3.707758e-09\n",
       "14       14  2.059865e-10\n",
       "15       15  9.154957e-12\n",
       "16       16  3.178805e-13\n",
       "17       17  8.310600e-15\n",
       "18       18  1.539000e-16\n",
       "19       19  1.800000e-18\n",
       "20       20  1.000000e-20"
      ]
     },
     "execution_count": 5,
     "metadata": {},
     "output_type": "execute_result"
    }
   ],
   "source": [
    "pmf_df"
   ]
  },
  {
   "cell_type": "code",
   "execution_count": 85,
   "metadata": {},
   "outputs": [
    {
     "data": {
      "text/plain": [
       "<Figure size 864x720 with 0 Axes>"
      ]
     },
     "execution_count": 85,
     "metadata": {},
     "output_type": "execute_result"
    },
    {
     "data": {
      "text/plain": [
       "<AxesSubplot:xlabel='success', ylabel='pmf'>"
      ]
     },
     "execution_count": 85,
     "metadata": {},
     "output_type": "execute_result"
    },
    {
     "data": {
      "text/plain": [
       "Text(0, 0.5, 'PMF')"
      ]
     },
     "execution_count": 85,
     "metadata": {},
     "output_type": "execute_result"
    },
    {
     "data": {
      "text/plain": [
       "Text(0.5, 0, 'Number of items returned.')"
      ]
     },
     "execution_count": 85,
     "metadata": {},
     "output_type": "execute_result"
    },
    {
     "data": {
      "image/png": "[encoded data removed]",
      "text/plain": [
       "<Figure size 864x720 with 1 Axes>"
      ]
     },
     "metadata": {
      "needs_background": "light"
     },
     "output_type": "display_data"
    }
   ],
   "source": [
    "#Creadting a bar plot with number of success as X and pmf as y.\n",
    "plt.figure(figsize=(12,10))\n",
    "sns.barplot(x = pmf_df.success,y=pmf_df.pmf)\n",
    "plt.ylabel('PMF')\n",
    "plt.xlabel('Number of items returned.')"
   ]
  },
  {
   "cell_type": "code",
   "execution_count": 8,
   "metadata": {},
   "outputs": [
    {
     "data": {
      "text/plain": [
       "0.988746865835491"
      ]
     },
     "execution_count": 8,
     "metadata": {},
     "output_type": "execute_result"
    }
   ],
   "source": [
    "#Max of 5 customers will return the items.\n",
    "stats.binom.cdf(5,20,0.1)"
   ]
  },
  {
   "cell_type": "code",
   "execution_count": 9,
   "metadata": {},
   "outputs": [
    {
     "data": {
      "text/plain": [
       "0.011253134164509015"
      ]
     },
     "execution_count": 9,
     "metadata": {},
     "output_type": "execute_result"
    }
   ],
   "source": [
    "#Prob that more than 5 customers will return the items.\n",
    "1 - stats.binom.cdf(5,20,0.1)"
   ]
  },
  {
   "cell_type": "code",
   "execution_count": 11,
   "metadata": {},
   "outputs": [
    {
     "name": "stdout",
     "output_type": "stream",
     "text": [
      "Average :  2.0\n",
      "Variance :  1.8\n"
     ]
    }
   ],
   "source": [
    "#Avg number of customers who will return the product and variance and std dev.\n",
    "mean,var = stats.binom.stats(20,0.1)\n",
    "print(\"Average : \",mean)\n",
    "print(\"Variance : \",var)"
   ]
  },
  {
   "cell_type": "markdown",
   "metadata": {},
   "source": [
    "#### Poisson Distribution"
   ]
  },
  {
   "cell_type": "markdown",
   "metadata": {},
   "source": [
    "In many situtations, we would be interested in calculating the number of events that may occur \n",
    "in a period of time. To find the prob of number of events, we use Poisson Distribution."
   ]
  },
  {
   "cell_type": "markdown",
   "metadata": {},
   "source": [
    "The number of calls  arriving at a call centre follows Poisson dist at 10 calls per hour."
   ]
  },
  {
   "cell_type": "markdown",
   "metadata": {},
   "source": [
    "- Calculate the prob that the number of calls will be maximum 5.\n",
    "- Calculate the prob that the number of calls over a 3 hours period will exceed 30."
   ]
  },
  {
   "cell_type": "markdown",
   "metadata": {},
   "source": [
    "Parameters : \n",
    "    - No. of events (5 calls in an hour)\n",
    "    - The average number of calls in an hour (10)"
   ]
  },
  {
   "cell_type": "code",
   "execution_count": 13,
   "metadata": {},
   "outputs": [
    {
     "data": {
      "text/plain": [
       "0.06708596287903189"
      ]
     },
     "execution_count": 13,
     "metadata": {},
     "output_type": "execute_result"
    }
   ],
   "source": [
    "stats.poisson.cdf(5,10)"
   ]
  },
  {
   "cell_type": "code",
   "execution_count": 14,
   "metadata": {},
   "outputs": [
    {
     "data": {
      "text/plain": [
       "0.45164848742208863"
      ]
     },
     "execution_count": 14,
     "metadata": {},
     "output_type": "execute_result"
    }
   ],
   "source": [
    "1 - stats.poisson.cdf(30,30)"
   ]
  },
  {
   "cell_type": "code",
   "execution_count": 83,
   "metadata": {},
   "outputs": [
    {
     "data": {
      "text/plain": [
       "<Figure size 864x720 with 0 Axes>"
      ]
     },
     "execution_count": 83,
     "metadata": {},
     "output_type": "execute_result"
    },
    {
     "data": {
      "text/plain": [
       "<AxesSubplot:xlabel='success', ylabel='pmf'>"
      ]
     },
     "execution_count": 83,
     "metadata": {},
     "output_type": "execute_result"
    },
    {
     "data": {
      "text/plain": [
       "Text(0.5, 0, 'Number of calls recieved.')"
      ]
     },
     "execution_count": 83,
     "metadata": {},
     "output_type": "execute_result"
    },
    {
     "data": {
      "image/png": "[encoded data removed]",
      "text/plain": [
       "<Figure size 864x720 with 1 Axes>"
      ]
     },
     "metadata": {
      "needs_background": "light"
     },
     "output_type": "display_data"
    }
   ],
   "source": [
    "#range(0,30) returns all values from 0 to 29\n",
    "pmf_df = pd.DataFrame({'success': range(0,30),'pmf':list (stats.poisson.pmf(range(0,30),10))})\n",
    "\n",
    "#Creadting a bar plot with number of success as X and pmf as y.\n",
    "plt.figure(figsize=(12,10))\n",
    "sns.barplot(x = pmf_df.success,y=pmf_df.pmf)\n",
    "plt.xlabel('Number of calls recieved.')"
   ]
  },
  {
   "cell_type": "markdown",
   "metadata": {},
   "source": [
    "#### Exponential Distribution"
   ]
  },
  {
   "cell_type": "markdown",
   "metadata": {},
   "source": [
    "The time to failure of a system follows Expo Dist with the mean time between failures of 1000 hours.\n",
    "Calculate :\n",
    "- Prob that the system will fail before 1000 hours\n",
    "- Prob that it will not fail up to 2000 hours\n",
    "- The time by which 10% of the system will fail"
   ]
  },
  {
   "cell_type": "code",
   "execution_count": 16,
   "metadata": {},
   "outputs": [
    {
     "data": {
      "text/plain": [
       "0.6321201909489326"
      ]
     },
     "execution_count": 16,
     "metadata": {},
     "output_type": "execute_result"
    }
   ],
   "source": [
    "stats.expon.cdf(1000,\n",
    "               loc = 1/1000,\n",
    "               scale=1000)"
   ]
  },
  {
   "cell_type": "code",
   "execution_count": 17,
   "metadata": {},
   "outputs": [
    {
     "data": {
      "text/plain": [
       "0.13533541857196352"
      ]
     },
     "execution_count": 17,
     "metadata": {},
     "output_type": "execute_result"
    }
   ],
   "source": [
    "1 - stats.expon.cdf(2000,\n",
    "                   loc=1/1000,\n",
    "                   scale=1000)"
   ]
  },
  {
   "cell_type": "code",
   "execution_count": 18,
   "metadata": {},
   "outputs": [
    {
     "data": {
      "text/plain": [
       "105.36151565782632"
      ]
     },
     "execution_count": 18,
     "metadata": {},
     "output_type": "execute_result"
    }
   ],
   "source": [
    "#Time can be calculated by PPF(percent point function) and is an inverse of CDF,\n",
    "stats.expon.ppf(.1,\n",
    "               loc=1/1000,\n",
    "               scale=1000)"
   ]
  },
  {
   "cell_type": "markdown",
   "metadata": {},
   "source": [
    "That is, by 105.36 hours, 10% of the systems will fail."
   ]
  },
  {
   "cell_type": "code",
   "execution_count": 20,
   "metadata": {},
   "outputs": [
    {
     "data": {
      "image/png": "[encoded data removed]",
      "text/plain": [
       "<Figure size 864x720 with 1 Axes>"
      ]
     },
     "metadata": {
      "needs_background": "light"
     },
     "output_type": "display_data"
    }
   ],
   "source": [
    "pdf_df = pd.DataFrame({'success': range(0,5000,100),\n",
    "                      'pdf': list(stats.expon.pdf(range(0,5000,100),\n",
    "                                                 loc=1/1000,\n",
    "                                                 scale=1000))})\n",
    "plt.figure(figsize=(12,10))\n",
    "sns.barplot(x=pdf_df.success,y=pdf_df.pdf);\n",
    "plt.xticks(rotation=90);\n",
    "plt.xlabel(\"Time to Failure\");"
   ]
  },
  {
   "cell_type": "markdown",
   "metadata": {},
   "source": [
    "#### Normal Distribution`"
   ]
  },
  {
   "cell_type": "code",
   "execution_count": 24,
   "metadata": {},
   "outputs": [],
   "source": [
    "import pandas as pd\n",
    "import numpy as np\n",
    "import warnings\n",
    "import os\n",
    "import "
   ]
  },
  {
   "cell_type": "code",
   "execution_count": 25,
   "metadata": {},
   "outputs": [
    {
     "data": {
      "text/plain": [
       "'/Users/rushabhrumde'"
      ]
     },
     "execution_count": 25,
     "metadata": {},
     "output_type": "execute_result"
    }
   ],
   "source": [
    "os.getcwd()"
   ]
  },
  {
   "cell_type": "code",
   "execution_count": 26,
   "metadata": {},
   "outputs": [],
   "source": [
    "os.chdir('/Users/rushabhrumde/Downloads')"
   ]
  },
  {
   "cell_type": "code",
   "execution_count": 45,
   "metadata": {},
   "outputs": [
    {
     "data": {
      "text/html": [
       "<div>\n",
       "<style scoped>\n",
       "    .dataframe tbody tr th:only-of-type {\n",
       "        vertical-align: middle;\n",
       "    }\n",
       "\n",
       "    .dataframe tbody tr th {\n",
       "        vertical-align: top;\n",
       "    }\n",
       "\n",
       "    .dataframe thead th {\n",
       "        text-align: right;\n",
       "    }\n",
       "</style>\n",
       "<table border=\"1\" class=\"dataframe\">\n",
       "  <thead>\n",
       "    <tr style=\"text-align: right;\">\n",
       "      <th></th>\n",
       "      <th>Date</th>\n",
       "      <th>Open Price</th>\n",
       "      <th>High Price</th>\n",
       "      <th>Low Price</th>\n",
       "      <th>Close Price</th>\n",
       "      <th>WAP</th>\n",
       "      <th>No.of Shares</th>\n",
       "      <th>No. of Trades</th>\n",
       "      <th>Total Turnover (Rs.)</th>\n",
       "      <th>Deliverable Quantity</th>\n",
       "      <th>% Deli. Qty to Traded Qty</th>\n",
       "      <th>Spread High-Low</th>\n",
       "      <th>Spread Close-Open</th>\n",
       "    </tr>\n",
       "  </thead>\n",
       "  <tbody>\n",
       "    <tr>\n",
       "      <th>0</th>\n",
       "      <td>13-April-2021</td>\n",
       "      <td>1369.00</td>\n",
       "      <td>1406.30</td>\n",
       "      <td>1360.75</td>\n",
       "      <td>1400.30</td>\n",
       "      <td>1380.259654</td>\n",
       "      <td>231654</td>\n",
       "      <td>8237</td>\n",
       "      <td>319742670.0</td>\n",
       "      <td>110122.0</td>\n",
       "      <td>47.54</td>\n",
       "      <td>45.55</td>\n",
       "      <td>31.30</td>\n",
       "    </tr>\n",
       "    <tr>\n",
       "      <th>1</th>\n",
       "      <td>12-April-2021</td>\n",
       "      <td>1399.65</td>\n",
       "      <td>1399.65</td>\n",
       "      <td>1353.10</td>\n",
       "      <td>1366.60</td>\n",
       "      <td>1374.391739</td>\n",
       "      <td>283656</td>\n",
       "      <td>15894</td>\n",
       "      <td>389854463.0</td>\n",
       "      <td>104045.0</td>\n",
       "      <td>36.68</td>\n",
       "      <td>46.55</td>\n",
       "      <td>-33.05</td>\n",
       "    </tr>\n",
       "    <tr>\n",
       "      <th>2</th>\n",
       "      <td>9-April-2021</td>\n",
       "      <td>1428.50</td>\n",
       "      <td>1431.55</td>\n",
       "      <td>1415.00</td>\n",
       "      <td>1421.65</td>\n",
       "      <td>1423.779302</td>\n",
       "      <td>572144</td>\n",
       "      <td>27621</td>\n",
       "      <td>814606785.0</td>\n",
       "      <td>297804.0</td>\n",
       "      <td>52.05</td>\n",
       "      <td>16.55</td>\n",
       "      <td>-6.85</td>\n",
       "    </tr>\n",
       "    <tr>\n",
       "      <th>3</th>\n",
       "      <td>8-April-2021</td>\n",
       "      <td>1450.35</td>\n",
       "      <td>1460.60</td>\n",
       "      <td>1430.00</td>\n",
       "      <td>1433.55</td>\n",
       "      <td>1447.262025</td>\n",
       "      <td>412114</td>\n",
       "      <td>19914</td>\n",
       "      <td>596436942.0</td>\n",
       "      <td>236554.0</td>\n",
       "      <td>57.40</td>\n",
       "      <td>30.60</td>\n",
       "      <td>-16.80</td>\n",
       "    </tr>\n",
       "    <tr>\n",
       "      <th>4</th>\n",
       "      <td>7-April-2021</td>\n",
       "      <td>1437.35</td>\n",
       "      <td>1456.50</td>\n",
       "      <td>1422.05</td>\n",
       "      <td>1447.35</td>\n",
       "      <td>1444.910380</td>\n",
       "      <td>369897</td>\n",
       "      <td>15895</td>\n",
       "      <td>534468015.0</td>\n",
       "      <td>126080.0</td>\n",
       "      <td>34.09</td>\n",
       "      <td>34.45</td>\n",
       "      <td>10.00</td>\n",
       "    </tr>\n",
       "    <tr>\n",
       "      <th>...</th>\n",
       "      <td>...</td>\n",
       "      <td>...</td>\n",
       "      <td>...</td>\n",
       "      <td>...</td>\n",
       "      <td>...</td>\n",
       "      <td>...</td>\n",
       "      <td>...</td>\n",
       "      <td>...</td>\n",
       "      <td>...</td>\n",
       "      <td>...</td>\n",
       "      <td>...</td>\n",
       "      <td>...</td>\n",
       "      <td>...</td>\n",
       "    </tr>\n",
       "    <tr>\n",
       "      <th>985</th>\n",
       "      <td>21-April-2017</td>\n",
       "      <td>1474.80</td>\n",
       "      <td>1500.00</td>\n",
       "      <td>1455.10</td>\n",
       "      <td>1496.75</td>\n",
       "      <td>1480.031603</td>\n",
       "      <td>515490</td>\n",
       "      <td>10292</td>\n",
       "      <td>762941491.0</td>\n",
       "      <td>276571.0</td>\n",
       "      <td>53.65</td>\n",
       "      <td>44.90</td>\n",
       "      <td>21.95</td>\n",
       "    </tr>\n",
       "    <tr>\n",
       "      <th>986</th>\n",
       "      <td>20-April-2017</td>\n",
       "      <td>1450.00</td>\n",
       "      <td>1465.65</td>\n",
       "      <td>1450.00</td>\n",
       "      <td>1461.95</td>\n",
       "      <td>1461.828536</td>\n",
       "      <td>137335</td>\n",
       "      <td>2268</td>\n",
       "      <td>200760222.0</td>\n",
       "      <td>77632.0</td>\n",
       "      <td>56.53</td>\n",
       "      <td>15.65</td>\n",
       "      <td>11.95</td>\n",
       "    </tr>\n",
       "    <tr>\n",
       "      <th>987</th>\n",
       "      <td>19-April-2017</td>\n",
       "      <td>1447.50</td>\n",
       "      <td>1454.90</td>\n",
       "      <td>1438.55</td>\n",
       "      <td>1447.05</td>\n",
       "      <td>1446.204941</td>\n",
       "      <td>91758</td>\n",
       "      <td>1513</td>\n",
       "      <td>132700873.0</td>\n",
       "      <td>59739.0</td>\n",
       "      <td>65.10</td>\n",
       "      <td>16.35</td>\n",
       "      <td>-0.45</td>\n",
       "    </tr>\n",
       "    <tr>\n",
       "      <th>988</th>\n",
       "      <td>18-April-2017</td>\n",
       "      <td>1437.05</td>\n",
       "      <td>1454.75</td>\n",
       "      <td>1437.05</td>\n",
       "      <td>1445.75</td>\n",
       "      <td>1447.510197</td>\n",
       "      <td>138662</td>\n",
       "      <td>1877</td>\n",
       "      <td>200714659.0</td>\n",
       "      <td>98102.0</td>\n",
       "      <td>70.75</td>\n",
       "      <td>17.70</td>\n",
       "      <td>8.70</td>\n",
       "    </tr>\n",
       "    <tr>\n",
       "      <th>989</th>\n",
       "      <td>17-April-2017</td>\n",
       "      <td>1440.00</td>\n",
       "      <td>1445.00</td>\n",
       "      <td>1428.45</td>\n",
       "      <td>1436.05</td>\n",
       "      <td>1433.008654</td>\n",
       "      <td>115095</td>\n",
       "      <td>3003</td>\n",
       "      <td>164932131.0</td>\n",
       "      <td>90200.0</td>\n",
       "      <td>78.37</td>\n",
       "      <td>16.55</td>\n",
       "      <td>-3.95</td>\n",
       "    </tr>\n",
       "  </tbody>\n",
       "</table>\n",
       "<p>990 rows × 13 columns</p>\n",
       "</div>"
      ],
      "text/plain": [
       "              Date  Open Price  High Price  Low Price  Close Price  \\\n",
       "0    13-April-2021     1369.00     1406.30    1360.75      1400.30   \n",
       "1    12-April-2021     1399.65     1399.65    1353.10      1366.60   \n",
       "2     9-April-2021     1428.50     1431.55    1415.00      1421.65   \n",
       "3     8-April-2021     1450.35     1460.60    1430.00      1433.55   \n",
       "4     7-April-2021     1437.35     1456.50    1422.05      1447.35   \n",
       "..             ...         ...         ...        ...          ...   \n",
       "985  21-April-2017     1474.80     1500.00    1455.10      1496.75   \n",
       "986  20-April-2017     1450.00     1465.65    1450.00      1461.95   \n",
       "987  19-April-2017     1447.50     1454.90    1438.55      1447.05   \n",
       "988  18-April-2017     1437.05     1454.75    1437.05      1445.75   \n",
       "989  17-April-2017     1440.00     1445.00    1428.45      1436.05   \n",
       "\n",
       "             WAP  No.of Shares  No. of Trades  Total Turnover (Rs.)  \\\n",
       "0    1380.259654        231654           8237           319742670.0   \n",
       "1    1374.391739        283656          15894           389854463.0   \n",
       "2    1423.779302        572144          27621           814606785.0   \n",
       "3    1447.262025        412114          19914           596436942.0   \n",
       "4    1444.910380        369897          15895           534468015.0   \n",
       "..           ...           ...            ...                   ...   \n",
       "985  1480.031603        515490          10292           762941491.0   \n",
       "986  1461.828536        137335           2268           200760222.0   \n",
       "987  1446.204941         91758           1513           132700873.0   \n",
       "988  1447.510197        138662           1877           200714659.0   \n",
       "989  1433.008654        115095           3003           164932131.0   \n",
       "\n",
       "     Deliverable Quantity  % Deli. Qty to Traded Qty  Spread High-Low  \\\n",
       "0                110122.0                      47.54            45.55   \n",
       "1                104045.0                      36.68            46.55   \n",
       "2                297804.0                      52.05            16.55   \n",
       "3                236554.0                      57.40            30.60   \n",
       "4                126080.0                      34.09            34.45   \n",
       "..                    ...                        ...              ...   \n",
       "985              276571.0                      53.65            44.90   \n",
       "986               77632.0                      56.53            15.65   \n",
       "987               59739.0                      65.10            16.35   \n",
       "988               98102.0                      70.75            17.70   \n",
       "989               90200.0                      78.37            16.55   \n",
       "\n",
       "     Spread Close-Open  \n",
       "0                31.30  \n",
       "1               -33.05  \n",
       "2                -6.85  \n",
       "3               -16.80  \n",
       "4                10.00  \n",
       "..                 ...  \n",
       "985              21.95  \n",
       "986              11.95  \n",
       "987              -0.45  \n",
       "988               8.70  \n",
       "989              -3.95  \n",
       "\n",
       "[990 rows x 13 columns]"
      ]
     },
     "execution_count": 45,
     "metadata": {},
     "output_type": "execute_result"
    }
   ],
   "source": [
    "hdfc = pd.read_csv(\"HDFC_Bank.csv\")\n",
    "hdfc"
   ]
  },
  {
   "cell_type": "code",
   "execution_count": 46,
   "metadata": {},
   "outputs": [
    {
     "data": {
      "text/html": [
       "<div>\n",
       "<style scoped>\n",
       "    .dataframe tbody tr th:only-of-type {\n",
       "        vertical-align: middle;\n",
       "    }\n",
       "\n",
       "    .dataframe tbody tr th {\n",
       "        vertical-align: top;\n",
       "    }\n",
       "\n",
       "    .dataframe thead th {\n",
       "        text-align: right;\n",
       "    }\n",
       "</style>\n",
       "<table border=\"1\" class=\"dataframe\">\n",
       "  <thead>\n",
       "    <tr style=\"text-align: right;\">\n",
       "      <th></th>\n",
       "      <th>Date</th>\n",
       "      <th>Open Price</th>\n",
       "      <th>High Price</th>\n",
       "      <th>Low Price</th>\n",
       "      <th>Close Price</th>\n",
       "      <th>WAP</th>\n",
       "      <th>No.of Shares</th>\n",
       "      <th>No. of Trades</th>\n",
       "      <th>Total Turnover (Rs.)</th>\n",
       "      <th>Deliverable Quantity</th>\n",
       "      <th>% Deli. Qty to Traded Qty</th>\n",
       "      <th>Spread High-Low</th>\n",
       "      <th>Spread Close-Open</th>\n",
       "    </tr>\n",
       "  </thead>\n",
       "  <tbody>\n",
       "    <tr>\n",
       "      <th>0</th>\n",
       "      <td>13-April-2021</td>\n",
       "      <td>539.25</td>\n",
       "      <td>563.70</td>\n",
       "      <td>538.00</td>\n",
       "      <td>560.45</td>\n",
       "      <td>553.011658</td>\n",
       "      <td>578306</td>\n",
       "      <td>10507</td>\n",
       "      <td>3.198100e+08</td>\n",
       "      <td>122960.0</td>\n",
       "      <td>21.26</td>\n",
       "      <td>25.70</td>\n",
       "      <td>21.20</td>\n",
       "    </tr>\n",
       "    <tr>\n",
       "      <th>1</th>\n",
       "      <td>12-April-2021</td>\n",
       "      <td>548.65</td>\n",
       "      <td>551.80</td>\n",
       "      <td>531.25</td>\n",
       "      <td>538.40</td>\n",
       "      <td>541.712461</td>\n",
       "      <td>1419739</td>\n",
       "      <td>41878</td>\n",
       "      <td>7.690903e+08</td>\n",
       "      <td>590874.0</td>\n",
       "      <td>41.62</td>\n",
       "      <td>20.55</td>\n",
       "      <td>-10.25</td>\n",
       "    </tr>\n",
       "    <tr>\n",
       "      <th>2</th>\n",
       "      <td>9-April-2021</td>\n",
       "      <td>574.50</td>\n",
       "      <td>579.15</td>\n",
       "      <td>565.05</td>\n",
       "      <td>566.45</td>\n",
       "      <td>571.321793</td>\n",
       "      <td>834558</td>\n",
       "      <td>20036</td>\n",
       "      <td>4.768012e+08</td>\n",
       "      <td>328208.0</td>\n",
       "      <td>39.33</td>\n",
       "      <td>14.10</td>\n",
       "      <td>-8.05</td>\n",
       "    </tr>\n",
       "    <tr>\n",
       "      <th>3</th>\n",
       "      <td>8-April-2021</td>\n",
       "      <td>581.70</td>\n",
       "      <td>585.75</td>\n",
       "      <td>573.25</td>\n",
       "      <td>576.75</td>\n",
       "      <td>578.145791</td>\n",
       "      <td>3042430</td>\n",
       "      <td>13778</td>\n",
       "      <td>1.758968e+09</td>\n",
       "      <td>2706984.0</td>\n",
       "      <td>88.97</td>\n",
       "      <td>12.50</td>\n",
       "      <td>-4.95</td>\n",
       "    </tr>\n",
       "    <tr>\n",
       "      <th>4</th>\n",
       "      <td>7-April-2021</td>\n",
       "      <td>568.40</td>\n",
       "      <td>580.00</td>\n",
       "      <td>560.00</td>\n",
       "      <td>577.55</td>\n",
       "      <td>574.331646</td>\n",
       "      <td>1332613</td>\n",
       "      <td>18677</td>\n",
       "      <td>7.653618e+08</td>\n",
       "      <td>681275.0</td>\n",
       "      <td>51.12</td>\n",
       "      <td>20.00</td>\n",
       "      <td>9.15</td>\n",
       "    </tr>\n",
       "    <tr>\n",
       "      <th>...</th>\n",
       "      <td>...</td>\n",
       "      <td>...</td>\n",
       "      <td>...</td>\n",
       "      <td>...</td>\n",
       "      <td>...</td>\n",
       "      <td>...</td>\n",
       "      <td>...</td>\n",
       "      <td>...</td>\n",
       "      <td>...</td>\n",
       "      <td>...</td>\n",
       "      <td>...</td>\n",
       "      <td>...</td>\n",
       "      <td>...</td>\n",
       "    </tr>\n",
       "    <tr>\n",
       "      <th>985</th>\n",
       "      <td>21-April-2017</td>\n",
       "      <td>274.85</td>\n",
       "      <td>274.85</td>\n",
       "      <td>267.05</td>\n",
       "      <td>269.15</td>\n",
       "      <td>270.329912</td>\n",
       "      <td>1183579</td>\n",
       "      <td>9644</td>\n",
       "      <td>3.199568e+08</td>\n",
       "      <td>442538.0</td>\n",
       "      <td>37.39</td>\n",
       "      <td>7.80</td>\n",
       "      <td>-5.70</td>\n",
       "    </tr>\n",
       "    <tr>\n",
       "      <th>986</th>\n",
       "      <td>20-April-2017</td>\n",
       "      <td>276.00</td>\n",
       "      <td>276.00</td>\n",
       "      <td>271.65</td>\n",
       "      <td>272.80</td>\n",
       "      <td>273.886762</td>\n",
       "      <td>7691804</td>\n",
       "      <td>11324</td>\n",
       "      <td>2.106683e+09</td>\n",
       "      <td>566988.0</td>\n",
       "      <td>7.37</td>\n",
       "      <td>4.35</td>\n",
       "      <td>-3.20</td>\n",
       "    </tr>\n",
       "    <tr>\n",
       "      <th>987</th>\n",
       "      <td>19-April-2017</td>\n",
       "      <td>284.40</td>\n",
       "      <td>284.80</td>\n",
       "      <td>278.85</td>\n",
       "      <td>280.95</td>\n",
       "      <td>281.615500</td>\n",
       "      <td>684801</td>\n",
       "      <td>4952</td>\n",
       "      <td>1.928506e+08</td>\n",
       "      <td>140263.0</td>\n",
       "      <td>20.48</td>\n",
       "      <td>5.95</td>\n",
       "      <td>-3.45</td>\n",
       "    </tr>\n",
       "    <tr>\n",
       "      <th>988</th>\n",
       "      <td>18-April-2017</td>\n",
       "      <td>283.00</td>\n",
       "      <td>291.60</td>\n",
       "      <td>282.25</td>\n",
       "      <td>283.00</td>\n",
       "      <td>286.790936</td>\n",
       "      <td>2231563</td>\n",
       "      <td>11919</td>\n",
       "      <td>6.399920e+08</td>\n",
       "      <td>1014295.0</td>\n",
       "      <td>45.45</td>\n",
       "      <td>9.35</td>\n",
       "      <td>0.00</td>\n",
       "    </tr>\n",
       "    <tr>\n",
       "      <th>989</th>\n",
       "      <td>17-April-2017</td>\n",
       "      <td>283.00</td>\n",
       "      <td>285.40</td>\n",
       "      <td>280.35</td>\n",
       "      <td>281.70</td>\n",
       "      <td>282.617026</td>\n",
       "      <td>634751</td>\n",
       "      <td>3704</td>\n",
       "      <td>1.793914e+08</td>\n",
       "      <td>246323.0</td>\n",
       "      <td>38.81</td>\n",
       "      <td>5.05</td>\n",
       "      <td>-1.30</td>\n",
       "    </tr>\n",
       "  </tbody>\n",
       "</table>\n",
       "<p>990 rows × 13 columns</p>\n",
       "</div>"
      ],
      "text/plain": [
       "              Date  Open Price  High Price  Low Price  Close Price  \\\n",
       "0    13-April-2021      539.25      563.70     538.00       560.45   \n",
       "1    12-April-2021      548.65      551.80     531.25       538.40   \n",
       "2     9-April-2021      574.50      579.15     565.05       566.45   \n",
       "3     8-April-2021      581.70      585.75     573.25       576.75   \n",
       "4     7-April-2021      568.40      580.00     560.00       577.55   \n",
       "..             ...         ...         ...        ...          ...   \n",
       "985  21-April-2017      274.85      274.85     267.05       269.15   \n",
       "986  20-April-2017      276.00      276.00     271.65       272.80   \n",
       "987  19-April-2017      284.40      284.80     278.85       280.95   \n",
       "988  18-April-2017      283.00      291.60     282.25       283.00   \n",
       "989  17-April-2017      283.00      285.40     280.35       281.70   \n",
       "\n",
       "            WAP  No.of Shares  No. of Trades  Total Turnover (Rs.)  \\\n",
       "0    553.011658        578306          10507          3.198100e+08   \n",
       "1    541.712461       1419739          41878          7.690903e+08   \n",
       "2    571.321793        834558          20036          4.768012e+08   \n",
       "3    578.145791       3042430          13778          1.758968e+09   \n",
       "4    574.331646       1332613          18677          7.653618e+08   \n",
       "..          ...           ...            ...                   ...   \n",
       "985  270.329912       1183579           9644          3.199568e+08   \n",
       "986  273.886762       7691804          11324          2.106683e+09   \n",
       "987  281.615500        684801           4952          1.928506e+08   \n",
       "988  286.790936       2231563          11919          6.399920e+08   \n",
       "989  282.617026        634751           3704          1.793914e+08   \n",
       "\n",
       "     Deliverable Quantity  % Deli. Qty to Traded Qty  Spread High-Low  \\\n",
       "0                122960.0                      21.26            25.70   \n",
       "1                590874.0                      41.62            20.55   \n",
       "2                328208.0                      39.33            14.10   \n",
       "3               2706984.0                      88.97            12.50   \n",
       "4                681275.0                      51.12            20.00   \n",
       "..                    ...                        ...              ...   \n",
       "985              442538.0                      37.39             7.80   \n",
       "986              566988.0                       7.37             4.35   \n",
       "987              140263.0                      20.48             5.95   \n",
       "988             1014295.0                      45.45             9.35   \n",
       "989              246323.0                      38.81             5.05   \n",
       "\n",
       "     Spread Close-Open  \n",
       "0                21.20  \n",
       "1               -10.25  \n",
       "2                -8.05  \n",
       "3                -4.95  \n",
       "4                 9.15  \n",
       "..                 ...  \n",
       "985              -5.70  \n",
       "986              -3.20  \n",
       "987              -3.45  \n",
       "988               0.00  \n",
       "989              -1.30  \n",
       "\n",
       "[990 rows x 13 columns]"
      ]
     },
     "execution_count": 46,
     "metadata": {},
     "output_type": "execute_result"
    }
   ],
   "source": [
    "icici = pd.read_csv(\"ICICI_Bank.csv\")\n",
    "icici"
   ]
  },
  {
   "cell_type": "code",
   "execution_count": 47,
   "metadata": {},
   "outputs": [],
   "source": [
    "hdfc_df = hdfc[[\"Date\",\"Close Price\"]]\n",
    "icici_df = icici[[\"Date\",\"Close Price\"]]"
   ]
  },
  {
   "cell_type": "code",
   "execution_count": 48,
   "metadata": {},
   "outputs": [],
   "source": [
    "hdfc_df = hdfc_df.set_index(pd.DatetimeIndex(hdfc_df[\"Date\"]))\n",
    "icici_df = icici_df.set_index(pd.DatetimeIndex(icici_df[\"Date\"]))"
   ]
  },
  {
   "cell_type": "code",
   "execution_count": 49,
   "metadata": {},
   "outputs": [
    {
     "data": {
      "text/html": [
       "<div>\n",
       "<style scoped>\n",
       "    .dataframe tbody tr th:only-of-type {\n",
       "        vertical-align: middle;\n",
       "    }\n",
       "\n",
       "    .dataframe tbody tr th {\n",
       "        vertical-align: top;\n",
       "    }\n",
       "\n",
       "    .dataframe thead th {\n",
       "        text-align: right;\n",
       "    }\n",
       "</style>\n",
       "<table border=\"1\" class=\"dataframe\">\n",
       "  <thead>\n",
       "    <tr style=\"text-align: right;\">\n",
       "      <th></th>\n",
       "      <th>Date</th>\n",
       "      <th>Close Price</th>\n",
       "    </tr>\n",
       "    <tr>\n",
       "      <th>Date</th>\n",
       "      <th></th>\n",
       "      <th></th>\n",
       "    </tr>\n",
       "  </thead>\n",
       "  <tbody>\n",
       "    <tr>\n",
       "      <th>2021-04-13</th>\n",
       "      <td>13-April-2021</td>\n",
       "      <td>1400.30</td>\n",
       "    </tr>\n",
       "    <tr>\n",
       "      <th>2021-04-12</th>\n",
       "      <td>12-April-2021</td>\n",
       "      <td>1366.60</td>\n",
       "    </tr>\n",
       "    <tr>\n",
       "      <th>2021-04-09</th>\n",
       "      <td>9-April-2021</td>\n",
       "      <td>1421.65</td>\n",
       "    </tr>\n",
       "    <tr>\n",
       "      <th>2021-04-08</th>\n",
       "      <td>8-April-2021</td>\n",
       "      <td>1433.55</td>\n",
       "    </tr>\n",
       "    <tr>\n",
       "      <th>2021-04-07</th>\n",
       "      <td>7-April-2021</td>\n",
       "      <td>1447.35</td>\n",
       "    </tr>\n",
       "  </tbody>\n",
       "</table>\n",
       "</div>"
      ],
      "text/plain": [
       "                     Date  Close Price\n",
       "Date                                  \n",
       "2021-04-13  13-April-2021      1400.30\n",
       "2021-04-12  12-April-2021      1366.60\n",
       "2021-04-09   9-April-2021      1421.65\n",
       "2021-04-08   8-April-2021      1433.55\n",
       "2021-04-07   7-April-2021      1447.35"
      ]
     },
     "execution_count": 49,
     "metadata": {},
     "output_type": "execute_result"
    },
    {
     "data": {
      "text/html": [
       "<div>\n",
       "<style scoped>\n",
       "    .dataframe tbody tr th:only-of-type {\n",
       "        vertical-align: middle;\n",
       "    }\n",
       "\n",
       "    .dataframe tbody tr th {\n",
       "        vertical-align: top;\n",
       "    }\n",
       "\n",
       "    .dataframe thead th {\n",
       "        text-align: right;\n",
       "    }\n",
       "</style>\n",
       "<table border=\"1\" class=\"dataframe\">\n",
       "  <thead>\n",
       "    <tr style=\"text-align: right;\">\n",
       "      <th></th>\n",
       "      <th>Date</th>\n",
       "      <th>Close Price</th>\n",
       "    </tr>\n",
       "    <tr>\n",
       "      <th>Date</th>\n",
       "      <th></th>\n",
       "      <th></th>\n",
       "    </tr>\n",
       "  </thead>\n",
       "  <tbody>\n",
       "    <tr>\n",
       "      <th>2021-04-13</th>\n",
       "      <td>13-April-2021</td>\n",
       "      <td>560.45</td>\n",
       "    </tr>\n",
       "    <tr>\n",
       "      <th>2021-04-12</th>\n",
       "      <td>12-April-2021</td>\n",
       "      <td>538.40</td>\n",
       "    </tr>\n",
       "    <tr>\n",
       "      <th>2021-04-09</th>\n",
       "      <td>9-April-2021</td>\n",
       "      <td>566.45</td>\n",
       "    </tr>\n",
       "    <tr>\n",
       "      <th>2021-04-08</th>\n",
       "      <td>8-April-2021</td>\n",
       "      <td>576.75</td>\n",
       "    </tr>\n",
       "    <tr>\n",
       "      <th>2021-04-07</th>\n",
       "      <td>7-April-2021</td>\n",
       "      <td>577.55</td>\n",
       "    </tr>\n",
       "  </tbody>\n",
       "</table>\n",
       "</div>"
      ],
      "text/plain": [
       "                     Date  Close Price\n",
       "Date                                  \n",
       "2021-04-13  13-April-2021       560.45\n",
       "2021-04-12  12-April-2021       538.40\n",
       "2021-04-09   9-April-2021       566.45\n",
       "2021-04-08   8-April-2021       576.75\n",
       "2021-04-07   7-April-2021       577.55"
      ]
     },
     "execution_count": 49,
     "metadata": {},
     "output_type": "execute_result"
    }
   ],
   "source": [
    "hdfc_df[0:5]\n",
    "icici_df[0:5]"
   ]
  },
  {
   "cell_type": "code",
   "execution_count": 86,
   "metadata": {},
   "outputs": [
    {
     "data": {
      "text/plain": [
       "<Figure size 864x720 with 0 Axes>"
      ]
     },
     "execution_count": 86,
     "metadata": {},
     "output_type": "execute_result"
    },
    {
     "data": {
      "text/plain": [
       "[<matplotlib.lines.Line2D at 0x7f870bf9efd0>]"
      ]
     },
     "execution_count": 86,
     "metadata": {},
     "output_type": "execute_result"
    },
    {
     "data": {
      "text/plain": [
       "Text(0.5, 0, 'Time')"
      ]
     },
     "execution_count": 86,
     "metadata": {},
     "output_type": "execute_result"
    },
    {
     "data": {
      "text/plain": [
       "Text(0, 0.5, 'Close Price')"
      ]
     },
     "execution_count": 86,
     "metadata": {},
     "output_type": "execute_result"
    },
    {
     "data": {
      "image/png": "[encoded data removed]",
      "text/plain": [
       "<Figure size 864x720 with 1 Axes>"
      ]
     },
     "metadata": {
      "needs_background": "light"
     },
     "output_type": "display_data"
    }
   ],
   "source": [
    "import matplotlib.pyplot as plt\n",
    "import seaborn as sn\n",
    "%matplotlib inline\n",
    "\n",
    "plt.figure(figsize=(12,10))\n",
    "plt.plot(hdfc_df[\"Close Price\"])\n",
    "plt.xlabel(\"Time\")\n",
    "plt.ylabel(\"Close Price\")"
   ]
  },
  {
   "cell_type": "code",
   "execution_count": 87,
   "metadata": {},
   "outputs": [
    {
     "data": {
      "text/plain": [
       "<Figure size 864x720 with 0 Axes>"
      ]
     },
     "execution_count": 87,
     "metadata": {},
     "output_type": "execute_result"
    },
    {
     "data": {
      "text/plain": [
       "[<matplotlib.lines.Line2D at 0x7f870c112f10>]"
      ]
     },
     "execution_count": 87,
     "metadata": {},
     "output_type": "execute_result"
    },
    {
     "data": {
      "text/plain": [
       "Text(0.5, 0, 'Time')"
      ]
     },
     "execution_count": 87,
     "metadata": {},
     "output_type": "execute_result"
    },
    {
     "data": {
      "text/plain": [
       "Text(0, 0.5, 'Close Price')"
      ]
     },
     "execution_count": 87,
     "metadata": {},
     "output_type": "execute_result"
    },
    {
     "data": {
      "image/png": "[encoded data removed]",
      "text/plain": [
       "<Figure size 864x720 with 1 Axes>"
      ]
     },
     "metadata": {
      "needs_background": "light"
     },
     "output_type": "display_data"
    }
   ],
   "source": [
    "plt.figure(figsize=(12,10))\n",
    "plt.plot(icici_df[\"Close Price\"])\n",
    "plt.xlabel(\"Time\")\n",
    "plt.ylabel(\"Close Price\")"
   ]
  },
  {
   "cell_type": "code",
   "execution_count": 52,
   "metadata": {},
   "outputs": [],
   "source": [
    "hdfc_df['gain'] = hdfc_df[\"Close Price\"].pct_change(periods=1)\n",
    "icici_df['gain'] = icici_df[\"Close Price\"].pct_change(periods=1)"
   ]
  },
  {
   "cell_type": "code",
   "execution_count": 53,
   "metadata": {},
   "outputs": [
    {
     "data": {
      "text/html": [
       "<div>\n",
       "<style scoped>\n",
       "    .dataframe tbody tr th:only-of-type {\n",
       "        vertical-align: middle;\n",
       "    }\n",
       "\n",
       "    .dataframe tbody tr th {\n",
       "        vertical-align: top;\n",
       "    }\n",
       "\n",
       "    .dataframe thead th {\n",
       "        text-align: right;\n",
       "    }\n",
       "</style>\n",
       "<table border=\"1\" class=\"dataframe\">\n",
       "  <thead>\n",
       "    <tr style=\"text-align: right;\">\n",
       "      <th></th>\n",
       "      <th>Date</th>\n",
       "      <th>Close Price</th>\n",
       "      <th>gain</th>\n",
       "    </tr>\n",
       "    <tr>\n",
       "      <th>Date</th>\n",
       "      <th></th>\n",
       "      <th></th>\n",
       "      <th></th>\n",
       "    </tr>\n",
       "  </thead>\n",
       "  <tbody>\n",
       "    <tr>\n",
       "      <th>2021-04-13</th>\n",
       "      <td>13-April-2021</td>\n",
       "      <td>1400.30</td>\n",
       "      <td>NaN</td>\n",
       "    </tr>\n",
       "    <tr>\n",
       "      <th>2021-04-12</th>\n",
       "      <td>12-April-2021</td>\n",
       "      <td>1366.60</td>\n",
       "      <td>-0.024066</td>\n",
       "    </tr>\n",
       "    <tr>\n",
       "      <th>2021-04-09</th>\n",
       "      <td>9-April-2021</td>\n",
       "      <td>1421.65</td>\n",
       "      <td>0.040282</td>\n",
       "    </tr>\n",
       "    <tr>\n",
       "      <th>2021-04-08</th>\n",
       "      <td>8-April-2021</td>\n",
       "      <td>1433.55</td>\n",
       "      <td>0.008371</td>\n",
       "    </tr>\n",
       "    <tr>\n",
       "      <th>2021-04-07</th>\n",
       "      <td>7-April-2021</td>\n",
       "      <td>1447.35</td>\n",
       "      <td>0.009626</td>\n",
       "    </tr>\n",
       "  </tbody>\n",
       "</table>\n",
       "</div>"
      ],
      "text/plain": [
       "                     Date  Close Price      gain\n",
       "Date                                            \n",
       "2021-04-13  13-April-2021      1400.30       NaN\n",
       "2021-04-12  12-April-2021      1366.60 -0.024066\n",
       "2021-04-09   9-April-2021      1421.65  0.040282\n",
       "2021-04-08   8-April-2021      1433.55  0.008371\n",
       "2021-04-07   7-April-2021      1447.35  0.009626"
      ]
     },
     "execution_count": 53,
     "metadata": {},
     "output_type": "execute_result"
    }
   ],
   "source": [
    "hdfc_df[0:5]"
   ]
  },
  {
   "cell_type": "code",
   "execution_count": 54,
   "metadata": {},
   "outputs": [],
   "source": [
    "hdfc_df = hdfc_df.dropna()\n",
    "icici_df = icici_df.dropna()"
   ]
  },
  {
   "cell_type": "code",
   "execution_count": 55,
   "metadata": {},
   "outputs": [
    {
     "data": {
      "image/png": "[encoded data removed]",
      "text/plain": [
       "<Figure size 864x720 with 1 Axes>"
      ]
     },
     "metadata": {
      "needs_background": "light"
     },
     "output_type": "display_data"
    }
   ],
   "source": [
    "plt.figure(figsize=(12,10))\n",
    "plt.plot(hdfc_df.index,hdfc_df.gain);\n",
    "plt.xlabel(\"Time\");\n",
    "plt.ylabel('Gain');"
   ]
  },
  {
   "cell_type": "code",
   "execution_count": 56,
   "metadata": {},
   "outputs": [
    {
     "data": {
      "image/png": "[encoded data removed]",
      "text/plain": [
       "<Figure size 864x720 with 1 Axes>"
      ]
     },
     "metadata": {
      "needs_background": "light"
     },
     "output_type": "display_data"
    }
   ],
   "source": [
    "plt.figure(figsize=(12,10))\n",
    "plt.plot(icici_df.index,icici_df.gain);\n",
    "plt.xlabel(\"Time\");\n",
    "plt.ylabel('Gain');"
   ]
  },
  {
   "cell_type": "code",
   "execution_count": 58,
   "metadata": {},
   "outputs": [
    {
     "name": "stderr",
     "output_type": "stream",
     "text": [
      "/Users/rushabhrumde/opt/anaconda3/lib/python3.8/site-packages/seaborn/distributions.py:2551: FutureWarning: `distplot` is a deprecated function and will be removed in a future version. Please adapt your code to use either `displot` (a figure-level function with similar flexibility) or `histplot` (an axes-level function for histograms).\n",
      "  warnings.warn(msg, FutureWarning)\n",
      "/Users/rushabhrumde/opt/anaconda3/lib/python3.8/site-packages/seaborn/distributions.py:2551: FutureWarning: `distplot` is a deprecated function and will be removed in a future version. Please adapt your code to use either `displot` (a figure-level function with similar flexibility) or `histplot` (an axes-level function for histograms).\n",
      "  warnings.warn(msg, FutureWarning)\n"
     ]
    },
    {
     "data": {
      "image/png": "[encoded data removed]",
      "text/plain": [
       "<Figure size 864x720 with 1 Axes>"
      ]
     },
     "metadata": {
      "needs_background": "light"
     },
     "output_type": "display_data"
    }
   ],
   "source": [
    "plt.figure(figsize=(12,10))\n",
    "sn.distplot(hdfc_df.gain,label=\"HDFC\");\n",
    "sn.distplot(icici_df.gain,label=\"ICICI\");\n",
    "plt.xlabel('Gain');\n",
    "plt.ylabel('Density');\n",
    "plt.legend();"
   ]
  },
  {
   "cell_type": "code",
   "execution_count": 62,
   "metadata": {},
   "outputs": [
    {
     "name": "stdout",
     "output_type": "stream",
     "text": [
      "DAILY GAIN OF HDFC\n",
      "-------------------\n",
      "Mean :  0.0005\n",
      "Standard Deviation :  0.0356\n"
     ]
    }
   ],
   "source": [
    "print(\"DAILY GAIN OF HDFC\")\n",
    "print(\"-------------------\")\n",
    "print(\"Mean : \",round(hdfc_df.gain.mean(),4))\n",
    "print(\"Standard Deviation : \",round(hdfc_df.gain.std(),4))"
   ]
  },
  {
   "cell_type": "code",
   "execution_count": 63,
   "metadata": {},
   "outputs": [
    {
     "name": "stdout",
     "output_type": "stream",
     "text": [
      "DAILY GAIN OF ICICI\n",
      "-------------------\n",
      "Mean :  -0.0004\n",
      "Standard Deviation :  0.0242\n"
     ]
    }
   ],
   "source": [
    "print(\"DAILY GAIN OF ICICI\")\n",
    "print(\"-------------------\")\n",
    "print(\"Mean : \",round(icici_df.gain.mean(),4))\n",
    "print(\"Standard Deviation : \",round(icici_df.gain.std(),4))"
   ]
  },
  {
   "cell_type": "markdown",
   "metadata": {},
   "source": [
    "**Here, Variance and Standard Deviation of gain indicates Risk. So HDFC stock has a higher risk as std dev of hdfc is 3.56% whereas the std dev of ICICi is 2.42% .**"
   ]
  },
  {
   "cell_type": "markdown",
   "metadata": {},
   "source": [
    "#### Confidence Interval"
   ]
  },
  {
   "cell_type": "code",
   "execution_count": 65,
   "metadata": {},
   "outputs": [
    {
     "name": "stdout",
     "output_type": "stream",
     "text": [
      "Gain at 95% confidence interval is :  [-0.0692  0.0702]\n"
     ]
    }
   ],
   "source": [
    "from scipy import stats\n",
    "\n",
    "hdfc_df_ci = stats.norm.interval(0.95,\n",
    "                                loc=hdfc_df.gain.mean(),\n",
    "                                scale=hdfc_df.gain.std())\n",
    "\n",
    "print(\"Gain at 95% confidence interval is : \",np.round(hdfc_df_ci,4))"
   ]
  },
  {
   "cell_type": "markdown",
   "metadata": {},
   "source": [
    "For 95% confidence intevral, Gain of HDFC remains between -6.92% and 7.02%."
   ]
  },
  {
   "cell_type": "code",
   "execution_count": 67,
   "metadata": {},
   "outputs": [
    {
     "name": "stdout",
     "output_type": "stream",
     "text": [
      "Gain at 95% confidence interval is : [-0.0478  0.047 ]\n"
     ]
    }
   ],
   "source": [
    "icici_df_ci = stats.norm.interval(0.95,\n",
    "                                 loc=icici_df.gain.mean(),\n",
    "                                 scale=icici_df.gain.std())\n",
    "\n",
    "print(\"Gain at 95% confidence interval is :\",np.round(icici_df_ci,4))"
   ]
  },
  {
   "cell_type": "markdown",
   "metadata": {},
   "source": [
    "**For 95% confidence interval, Gain of ICICI remains between -4.78% and 4.7%.**"
   ]
  },
  {
   "cell_type": "markdown",
   "metadata": {},
   "source": [
    "#### Cumulative Probability Distribution"
   ]
  },
  {
   "cell_type": "code",
   "execution_count": 69,
   "metadata": {},
   "outputs": [
    {
     "name": "stdout",
     "output_type": "stream",
     "text": [
      "Probability of making 2% loss or higher in HDFC : \n"
     ]
    },
    {
     "data": {
      "text/plain": [
       "0.2825"
      ]
     },
     "execution_count": 69,
     "metadata": {},
     "output_type": "execute_result"
    }
   ],
   "source": [
    "print(\"Probability of making 2% loss or higher in HDFC : \")\n",
    "round(stats.norm.cdf(-0.02,\n",
    "              loc = hdfc_df.gain.mean(),\n",
    "              scale = hdfc_df.gain.std()),4)"
   ]
  },
  {
   "cell_type": "code",
   "execution_count": 73,
   "metadata": {},
   "outputs": [
    {
     "name": "stdout",
     "output_type": "stream",
     "text": [
      "Probability of making 2% loss or higher in ICICI : \n"
     ]
    },
    {
     "data": {
      "text/plain": [
       "0.2089"
      ]
     },
     "execution_count": 73,
     "metadata": {},
     "output_type": "execute_result"
    }
   ],
   "source": [
    "print(\"Probability of making 2% loss or higher in ICICI : \")\n",
    "round(stats.norm.cdf(-0.02,\n",
    "                    loc=icici_df.gain.mean(),\n",
    "                    scale=icici_df.gain.std()),4)"
   ]
  },
  {
   "cell_type": "markdown",
   "metadata": {},
   "source": [
    "**CDF value indicates that HDFC has 28.25% probability, whereas ICICI has 20.89% of making loss of 2% or higher.**"
   ]
  },
  {
   "cell_type": "markdown",
   "metadata": {},
   "source": [
    "**The probability of making a daily gain of 2% or more will be given by the area to the right of 0.02 of the distribution. As cdf gives the cumulative area from left, the prob can be computed by subtracting the cumulative dist function from 1.**"
   ]
  },
  {
   "cell_type": "code",
   "execution_count": 82,
   "metadata": {},
   "outputs": [
    {
     "name": "stdout",
     "output_type": "stream",
     "text": [
      "Probability of making a 2% gain or higher in HDFC :  0.2914362375832735\n",
      "Probability of making a 2% gain or higher in ICICI :  0.1993448057060908\n"
     ]
    }
   ],
   "source": [
    "print(\"Probability of making a 2% gain or higher in HDFC : \",\n",
    "     1 - (stats.norm.cdf(0.02,\n",
    "                       loc=hdfc_df.gain.mean(),\n",
    "                       scale=hdfc_df.gain.std())))\n",
    "print(\"Probability of making a 2% gain or higher in ICICI : \",\n",
    "      1 - stats.norm.cdf(0.02,\n",
    "                        loc=icici_df.gain.mean(),\n",
    "                        scale=icici_df.gain.std()))"
   ]
  },
  {
   "cell_type": "markdown",
   "metadata": {},
   "source": [
    "**The probability of making a gain of 2% or more for HDFC is 29.14% whereas it is 19.93% for ICICI.**"
   ]
  },
  {
   "cell_type": "markdown",
   "metadata": {},
   "source": [
    "#### Hypothesis Test"
   ]
  },
  {
   "cell_type": "code",
   "execution_count": 90,
   "metadata": {},
   "outputs": [
    {
     "data": {
      "text/html": [
       "<div>\n",
       "<style scoped>\n",
       "    .dataframe tbody tr th:only-of-type {\n",
       "        vertical-align: middle;\n",
       "    }\n",
       "\n",
       "    .dataframe tbody tr th {\n",
       "        vertical-align: top;\n",
       "    }\n",
       "\n",
       "    .dataframe thead th {\n",
       "        text-align: right;\n",
       "    }\n",
       "</style>\n",
       "<table border=\"1\" class=\"dataframe\">\n",
       "  <thead>\n",
       "    <tr style=\"text-align: right;\">\n",
       "      <th></th>\n",
       "      <th>processing_time</th>\n",
       "    </tr>\n",
       "  </thead>\n",
       "  <tbody>\n",
       "    <tr>\n",
       "      <th>0</th>\n",
       "      <td>16</td>\n",
       "    </tr>\n",
       "    <tr>\n",
       "      <th>1</th>\n",
       "      <td>16</td>\n",
       "    </tr>\n",
       "    <tr>\n",
       "      <th>2</th>\n",
       "      <td>30</td>\n",
       "    </tr>\n",
       "    <tr>\n",
       "      <th>3</th>\n",
       "      <td>37</td>\n",
       "    </tr>\n",
       "    <tr>\n",
       "      <th>4</th>\n",
       "      <td>25</td>\n",
       "    </tr>\n",
       "  </tbody>\n",
       "</table>\n",
       "</div>"
      ],
      "text/plain": [
       "   processing_time\n",
       "0               16\n",
       "1               16\n",
       "2               30\n",
       "3               37\n",
       "4               25"
      ]
     },
     "execution_count": 90,
     "metadata": {},
     "output_type": "execute_result"
    }
   ],
   "source": [
    "passport_df = pd.read_csv(\"passport.csv\")\n",
    "passport_df[0:5]"
   ]
  },
  {
   "cell_type": "code",
   "execution_count": 89,
   "metadata": {},
   "outputs": [
    {
     "name": "stdout",
     "output_type": "stream",
     "text": [
      "[16, 16, 30, 37, 25, 22, 19, 35, 27, 32, 34, 28, 24, 35, 24, 21, 32, 29, 24, 35, 28, 29, 18, 31, 28, 33, 32, 24, 25, 22, 21, 27, 41, 23, 23, 16, 24, 38, 26, 28]\n"
     ]
    }
   ],
   "source": [
    "print(list(passport_df.processing_time))"
   ]
  },
  {
   "cell_type": "markdown",
   "metadata": {},
   "source": [
    "- h0 : Mu >= 30 hours \n",
    "- h1 : Mu < 30"
   ]
  },
  {
   "cell_type": "code",
   "execution_count": 91,
   "metadata": {},
   "outputs": [],
   "source": [
    "import math\n",
    "\n",
    "def z_test(pop_mean,pop_std,sample):\n",
    "    z_score = (sample.mean() - pop_mean) / (pop_std/math.sqrt(len(sample)))\n",
    "    return z_score , stats.norm.cdf(z_score)"
   ]
  },
  {
   "cell_type": "code",
   "execution_count": 92,
   "metadata": {},
   "outputs": [
    {
     "data": {
      "text/plain": [
       "(-1.4925950555994747, 0.06777160919961511)"
      ]
     },
     "execution_count": 92,
     "metadata": {},
     "output_type": "execute_result"
    }
   ],
   "source": [
    "z_test(30,12.5,passport_df.processing_time)"
   ]
  },
  {
   "cell_type": "markdown",
   "metadata": {},
   "source": [
    "**The first calue of the result is the Z-Statistic value or Z-score and the second value is the corressponding p-value.\n",
    "As the p-value is more than 0.05, the null hypothesis is retained. Also the Z-statistic value is higher than -1.64.\n",
    "There is not enough evidence to reject the null hypothesis.**"
   ]
  },
  {
   "cell_type": "markdown",
   "metadata": {},
   "source": [
    "#### One Sample T-Test"
   ]
  },
  {
   "cell_type": "code",
   "execution_count": 95,
   "metadata": {},
   "outputs": [
    {
     "data": {
      "text/html": [
       "<div>\n",
       "<style scoped>\n",
       "    .dataframe tbody tr th:only-of-type {\n",
       "        vertical-align: middle;\n",
       "    }\n",
       "\n",
       "    .dataframe tbody tr th {\n",
       "        vertical-align: top;\n",
       "    }\n",
       "\n",
       "    .dataframe thead th {\n",
       "        text-align: right;\n",
       "    }\n",
       "</style>\n",
       "<table border=\"1\" class=\"dataframe\">\n",
       "  <thead>\n",
       "    <tr style=\"text-align: right;\">\n",
       "      <th></th>\n",
       "      <th>production_cost</th>\n",
       "    </tr>\n",
       "  </thead>\n",
       "  <tbody>\n",
       "    <tr>\n",
       "      <th>0</th>\n",
       "      <td>601</td>\n",
       "    </tr>\n",
       "    <tr>\n",
       "      <th>1</th>\n",
       "      <td>627</td>\n",
       "    </tr>\n",
       "    <tr>\n",
       "      <th>2</th>\n",
       "      <td>330</td>\n",
       "    </tr>\n",
       "    <tr>\n",
       "      <th>3</th>\n",
       "      <td>364</td>\n",
       "    </tr>\n",
       "    <tr>\n",
       "      <th>4</th>\n",
       "      <td>562</td>\n",
       "    </tr>\n",
       "  </tbody>\n",
       "</table>\n",
       "</div>"
      ],
      "text/plain": [
       "   production_cost\n",
       "0              601\n",
       "1              627\n",
       "2              330\n",
       "3              364\n",
       "4              562"
      ]
     },
     "execution_count": 95,
     "metadata": {},
     "output_type": "execute_result"
    }
   ],
   "source": [
    "bollywood_movies_df = pd.read_csv(\"bollywood_movies.csv\")\n",
    "bollywood_movies_df.head()"
   ]
  },
  {
   "cell_type": "code",
   "execution_count": 96,
   "metadata": {},
   "outputs": [
    {
     "name": "stdout",
     "output_type": "stream",
     "text": [
      "[601, 627, 330, 364, 562, 353, 583, 254, 528, 470, 125, 60, 101, 110, 60, 252, 281, 227, 484, 402, 408, 601, 593, 729, 402, 530, 708, 599, 439, 762, 292, 636, 444, 286, 636, 667, 252, 335, 457, 632]\n"
     ]
    }
   ],
   "source": [
    "print(list(bollywood_movies_df.production_cost))"
   ]
  },
  {
   "cell_type": "markdown",
   "metadata": {},
   "source": [
    "- H0 : Mu = 500\n",
    "- H1 : Mu != 500"
   ]
  },
  {
   "cell_type": "code",
   "execution_count": 97,
   "metadata": {},
   "outputs": [
    {
     "data": {
      "text/plain": [
       "Ttest_1sampResult(statistic=-2.284553287266754, pvalue=0.0278625564067618)"
      ]
     },
     "execution_count": 97,
     "metadata": {},
     "output_type": "execute_result"
    }
   ],
   "source": [
    "stats.ttest_1samp(bollywood_movies_df.production_cost,500)"
   ]
  },
  {
   "cell_type": "markdown",
   "metadata": {},
   "source": [
    "**As p-value is less than 0.05, we can conclude that the sample mean rejects the null hypothesis of cost production being equal to 500.**"
   ]
  },
  {
   "cell_type": "markdown",
   "metadata": {},
   "source": [
    "#### Chi-Square goodness of Fit Test"
   ]
  },
  {
   "cell_type": "markdown",
   "metadata": {},
   "source": [
    "Hanuman Airline (HA) operated daily flights to several Indian cities.One of the problems HA faces is the food preferences by the passengers. Captian Cook, the operations manager of HA believes that 35% of their passengers prefer Vegetarian food, 40% prefer Non-vegetarian food, 20% low calorie food, and 5% request for diabetic food. A sample of 500 passengers was chosen to analyze the food preferences and the observed frequencies are as follows:"
   ]
  },
  {
   "cell_type": "markdown",
   "metadata": {},
   "source": [
    "- Veg : 190\n",
    "- Non-Veg : 185\n",
    "- Low Calorie : 90\n",
    "- Diabetic : 35"
   ]
  },
  {
   "cell_type": "code",
   "execution_count": 99,
   "metadata": {},
   "outputs": [
    {
     "data": {
      "text/plain": [
       "[190, 185, 90, 35]"
      ]
     },
     "execution_count": 99,
     "metadata": {},
     "output_type": "execute_result"
    },
    {
     "data": {
      "text/plain": [
       "[175.0, 200.0, 100.0, 25.0]"
      ]
     },
     "execution_count": 99,
     "metadata": {},
     "output_type": "execute_result"
    }
   ],
   "source": [
    "## Observed frequencies\n",
    "f_obs = [190,185,90,35]\n",
    "f_obs\n",
    "\n",
    "## Observed frequencies\n",
    "f_exp = [500*0.35,500*0.4,500*0.2,500*0.05]\n",
    "f_exp"
   ]
  },
  {
   "cell_type": "code",
   "execution_count": 100,
   "metadata": {},
   "outputs": [
    {
     "data": {
      "text/plain": [
       "Power_divergenceResult(statistic=7.410714285714286, pvalue=0.05989751420084909)"
      ]
     },
     "execution_count": 100,
     "metadata": {},
     "output_type": "execute_result"
    }
   ],
   "source": [
    "stats.chisquare(f_obs,f_exp)"
   ]
  },
  {
   "cell_type": "markdown",
   "metadata": {},
   "source": [
    "**As the p-value is more than 0.05, we retain the null hypothesis that Captain Cook's believe is true.**"
   ]
  },
  {
   "cell_type": "markdown",
   "metadata": {},
   "source": [
    "#### Analysis of Variance(ANOVA)"
   ]
  },
  {
   "cell_type": "markdown",
   "metadata": {},
   "source": [
    "Mrs. Rachael Khanna the brand manager of ENZO detergent powder at \"one-stop\" retail was interested in understanding whether the price discounts have any impact on the sales quantity of ENZO. To test whether the price discounts had any impact, price discounts of 0%, 10% and 20% were given on randomly selected days.\n",
    "Conduct one way ANOVA to check whether discount had any significant impact on average sales at 0.05."
   ]
  },
  {
   "cell_type": "markdown",
   "metadata": {},
   "source": [
    "- h0 : M1 = M2 = M3\n",
    "- h1 : M1 != M2 != M3"
   ]
  },
  {
   "cell_type": "code",
   "execution_count": 104,
   "metadata": {},
   "outputs": [
    {
     "data": {
      "text/html": [
       "<div>\n",
       "<style scoped>\n",
       "    .dataframe tbody tr th:only-of-type {\n",
       "        vertical-align: middle;\n",
       "    }\n",
       "\n",
       "    .dataframe tbody tr th {\n",
       "        vertical-align: top;\n",
       "    }\n",
       "\n",
       "    .dataframe thead th {\n",
       "        text-align: right;\n",
       "    }\n",
       "</style>\n",
       "<table border=\"1\" class=\"dataframe\">\n",
       "  <thead>\n",
       "    <tr style=\"text-align: right;\">\n",
       "      <th></th>\n",
       "      <th>discount_0</th>\n",
       "      <th>discount_10</th>\n",
       "      <th>discount_20</th>\n",
       "    </tr>\n",
       "  </thead>\n",
       "  <tbody>\n",
       "    <tr>\n",
       "      <th>0</th>\n",
       "      <td>39</td>\n",
       "      <td>34</td>\n",
       "      <td>42</td>\n",
       "    </tr>\n",
       "    <tr>\n",
       "      <th>1</th>\n",
       "      <td>32</td>\n",
       "      <td>41</td>\n",
       "      <td>43</td>\n",
       "    </tr>\n",
       "    <tr>\n",
       "      <th>2</th>\n",
       "      <td>25</td>\n",
       "      <td>45</td>\n",
       "      <td>44</td>\n",
       "    </tr>\n",
       "    <tr>\n",
       "      <th>3</th>\n",
       "      <td>25</td>\n",
       "      <td>39</td>\n",
       "      <td>46</td>\n",
       "    </tr>\n",
       "    <tr>\n",
       "      <th>4</th>\n",
       "      <td>37</td>\n",
       "      <td>38</td>\n",
       "      <td>41</td>\n",
       "    </tr>\n",
       "  </tbody>\n",
       "</table>\n",
       "</div>"
      ],
      "text/plain": [
       "   discount_0  discount_10  discount_20\n",
       "0          39           34           42\n",
       "1          32           41           43\n",
       "2          25           45           44\n",
       "3          25           39           46\n",
       "4          37           38           41"
      ]
     },
     "execution_count": 104,
     "metadata": {},
     "output_type": "execute_result"
    }
   ],
   "source": [
    "onestop_df = pd.read_csv(\"onestop.csv\")\n",
    "onestop_df[0:5]"
   ]
  },
  {
   "cell_type": "code",
   "execution_count": 107,
   "metadata": {},
   "outputs": [
    {
     "name": "stderr",
     "output_type": "stream",
     "text": [
      "/Users/rushabhrumde/opt/anaconda3/lib/python3.8/site-packages/seaborn/distributions.py:2551: FutureWarning: `distplot` is a deprecated function and will be removed in a future version. Please adapt your code to use either `displot` (a figure-level function with similar flexibility) or `histplot` (an axes-level function for histograms).\n",
      "  warnings.warn(msg, FutureWarning)\n",
      "/Users/rushabhrumde/opt/anaconda3/lib/python3.8/site-packages/seaborn/distributions.py:2551: FutureWarning: `distplot` is a deprecated function and will be removed in a future version. Please adapt your code to use either `displot` (a figure-level function with similar flexibility) or `histplot` (an axes-level function for histograms).\n",
      "  warnings.warn(msg, FutureWarning)\n",
      "/Users/rushabhrumde/opt/anaconda3/lib/python3.8/site-packages/seaborn/distributions.py:2551: FutureWarning: `distplot` is a deprecated function and will be removed in a future version. Please adapt your code to use either `displot` (a figure-level function with similar flexibility) or `histplot` (an axes-level function for histograms).\n",
      "  warnings.warn(msg, FutureWarning)\n"
     ]
    },
    {
     "data": {
      "image/png": "[encoded data removed]",
      "text/plain": [
       "<Figure size 864x720 with 1 Axes>"
      ]
     },
     "metadata": {
      "needs_background": "light"
     },
     "output_type": "display_data"
    }
   ],
   "source": [
    "plt.figure(figsize=(12,10))\n",
    "sn.distplot(onestop_df['discount_0'],label=\"No Discount\")\n",
    "sn.distplot(onestop_df['discount_10'],label=\"10% Discount\")\n",
    "sn.distplot(onestop_df['discount_20'],label=\"20% Discount\")\n",
    "plt.legend();"
   ]
  },
  {
   "cell_type": "code",
   "execution_count": 108,
   "metadata": {},
   "outputs": [
    {
     "data": {
      "text/plain": [
       "F_onewayResult(statistic=69.69232913094089, pvalue=8.575181773292499e-19)"
      ]
     },
     "execution_count": 108,
     "metadata": {},
     "output_type": "execute_result"
    }
   ],
   "source": [
    "from scipy.stats import f_oneway\n",
    "\n",
    "f_oneway(onestop_df['discount_0'],\n",
    "        onestop_df['discount_10'],\n",
    "        onestop_df['discount_20'])"
   ]
  },
  {
   "cell_type": "markdown",
   "metadata": {},
   "source": [
    "**As p-value is less than 0.05, we reject the null hypothesis and conclude that the mean sales quantity values under different discounts are different.**"
   ]
  },
  {
   "cell_type": "code",
   "execution_count": null,
   "metadata": {},
   "outputs": [],
   "source": []
  }
 ],
 "metadata": {
  "kernelspec": {
   "display_name": "Python 3",
   "language": "python",
   "name": "python3"
  },
  "language_info": {
   "codemirror_mode": {
    "name": "ipython",
    "version": 3
   },
   "file_extension": ".py",
   "mimetype": "text/x-python",
   "name": "python",
   "nbconvert_exporter": "python",
   "pygments_lexer": "ipython3",
   "version": "3.8.8"
  }
 },
 "nbformat": 4,
 "nbformat_minor": 4
}
